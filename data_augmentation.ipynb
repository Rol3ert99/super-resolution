{
 "cells": [
  {
   "cell_type": "code",
   "execution_count": 44,
   "id": "0253aece",
   "metadata": {},
   "outputs": [],
   "source": [
    "import cv2\n",
    "import os\n",
    "import numpy as np\n",
    "import pandas as pd\n",
    "import tensorflow as tf\n",
    "from keras.preprocessing.image import ImageDataGenerator\n",
    "from sklearn.model_selection import train_test_split\n",
    "from metrics import psnr, ssim\n",
    "from unet import create_unet_model\n",
    "import matplotlib.pyplot as plt"
   ]
  },
  {
   "cell_type": "code",
   "execution_count": 45,
   "id": "fba930df",
   "metadata": {},
   "outputs": [],
   "source": [
    "input_folder = \"./archive/train_images/\"\n",
    "\n",
    "image_files = [f for f in os.listdir(input_folder) if f.endswith(\".png\") or f.endswith(\".jpg\")]\n",
    "\n",
    "images_Y = [cv2.imread(os.path.join(input_folder, img)) for img in image_files]\n",
    "\n",
    "images_X = [cv2.resize(img, (48, 48), interpolation=cv2.INTER_AREA) for img in images_Y]"
   ]
  },
  {
   "cell_type": "code",
   "execution_count": 46,
   "id": "4b5d9681",
   "metadata": {},
   "outputs": [],
   "source": [
    "datagen = ImageDataGenerator( rotation_range = 45, #rotacja o (0; 45> stopni w lewo, prawo\n",
    "                              width_shift_range=0.2, #przesuniecie wzgledem osi x o 20% szerokości obrazu\n",
    "                              height_shift_range=0.2, #przesuniecie wzgledem osi y o 20% wysokości obrazu\n",
    "                              shear_range=0.2, #naprężenie ścinające obrazu\n",
    "                              zoom_range=0.2, #zoom-in, zoom-out o (0 do 20)%\n",
    "                              vertical_flip=True #odbicie wg osi y\n",
    "                              fill_mode = 'relfect' #wypełnienie obrazu odbiciami\n",
    "                            )\n",
    "\n"
   ]
  },
  {
   "cell_type": "code",
   "execution_count": 48,
   "id": "b1340c5c",
   "metadata": {},
   "outputs": [],
   "source": [
    "x = images_X[0].reshape( (1,) + images_X[0].shape )"
   ]
  },
  {
   "cell_type": "code",
   "execution_count": 51,
   "id": "bf6a5d0e",
   "metadata": {},
   "outputs": [],
   "source": [
    "i = 0\n",
    "for batch in datagen.flow(x,\n",
    "                          save_to_dir = 'augmented',\n",
    "                          save_prefix = 'aug',\n",
    "                          save_format = 'png'):\n",
    "    \n",
    "    i += 1\n",
    "    if i > 10:\n",
    "        break\n",
    "    "
   ]
  }
 ],
 "metadata": {
  "kernelspec": {
   "display_name": "Python 3 (ipykernel)",
   "language": "python",
   "name": "python3"
  },
  "language_info": {
   "codemirror_mode": {
    "name": "ipython",
    "version": 3
   },
   "file_extension": ".py",
   "mimetype": "text/x-python",
   "name": "python",
   "nbconvert_exporter": "python",
   "pygments_lexer": "ipython3",
   "version": "3.10.12"
  }
 },
 "nbformat": 4,
 "nbformat_minor": 5
}
